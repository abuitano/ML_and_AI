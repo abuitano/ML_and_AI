{
 "cells": [
  {
   "cell_type": "code",
   "execution_count": 1,
   "id": "9415fbfc",
   "metadata": {},
   "outputs": [],
   "source": [
    "import numpy as np\n",
    "import math"
   ]
  },
  {
   "cell_type": "code",
   "execution_count": 2,
   "id": "b35b8750",
   "metadata": {},
   "outputs": [],
   "source": [
    "f = np.genfromtxt(\"p1_data.csv\", delimiter = ',', skip_header=1)\n",
    "x = f[:,0]\n",
    "y = f[:,1]\n",
    "#x = np.array(input(\"Enter your x values separated by commas: \").split(',')) #getting feature data from user.\n",
    "#y = np.array(input(\"Enter your y values separated by commas (should be same size as x vector): \").split(',')) #getitng label data from user.\n",
    "\n",
    "#Converting data arrays to numeric type.\n",
    "#x = x.astype(np.int32)\n",
    "#y = y.astype(np.int32)"
   ]
  },
  {
   "cell_type": "code",
   "execution_count": 3,
   "id": "9974f43d",
   "metadata": {},
   "outputs": [],
   "source": [
    "def normal_eq(x,y):\n",
    "    # Function to find the values b0 and b1 from the normal equation seen in class. \n",
    "    a = np.array([[x.size, np.sum(x)], [np.sum(x), np.sum(np.square(x))]])\n",
    "    b = np.array([np.sum(y), np.dot(x,y)])\n",
    "    [b0,b1] = np.linalg.solve(a,b)\n",
    "    return b0, b1"
   ]
  },
  {
   "cell_type": "code",
   "execution_count": 4,
   "id": "f41a41f3",
   "metadata": {},
   "outputs": [],
   "source": [
    "[b0,b1]=normal_eq(x,y)"
   ]
  },
  {
   "cell_type": "code",
   "execution_count": 5,
   "id": "7e8a4431",
   "metadata": {},
   "outputs": [
    {
     "name": "stdout",
     "output_type": "stream",
     "text": [
      "y-intercept:  4.080657141894917\n",
      "slope:  -0.44236913850430776\n"
     ]
    }
   ],
   "source": [
    "print(\"y-intercept: \",b0)\n",
    "print(\"slope: \",b1)"
   ]
  }
 ],
 "metadata": {
  "kernelspec": {
   "display_name": "Python 3 (ipykernel)",
   "language": "python",
   "name": "python3"
  },
  "language_info": {
   "codemirror_mode": {
    "name": "ipython",
    "version": 3
   },
   "file_extension": ".py",
   "mimetype": "text/x-python",
   "name": "python",
   "nbconvert_exporter": "python",
   "pygments_lexer": "ipython3",
   "version": "3.10.6"
  }
 },
 "nbformat": 4,
 "nbformat_minor": 5
}
