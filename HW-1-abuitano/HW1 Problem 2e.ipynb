{
 "cells": [
  {
   "cell_type": "code",
   "execution_count": 1,
   "id": "91090ad9",
   "metadata": {},
   "outputs": [],
   "source": [
    "import numpy as np"
   ]
  },
  {
   "cell_type": "code",
   "execution_count": 2,
   "id": "13c37da3",
   "metadata": {},
   "outputs": [],
   "source": [
    "def NUMPY_outer(X,Y):\n",
    "    outer=np.zeros((len(X),len(Y)), dtype=int)\n",
    "    for i in range(len(X)):\n",
    "        for j in range(len(Y)):\n",
    "            outer[i][j] = X[i]*Y[j]\n",
    "    return outer\n",
    "        "
   ]
  },
  {
   "cell_type": "code",
   "execution_count": 3,
   "id": "40379d36",
   "metadata": {},
   "outputs": [],
   "source": [
    "np.random.seed(24787)\n",
    "X = np.random.randint(-1000, 1000, size=3000)\n",
    "Y = np.random.randint(-1000, 1000, size=3000)"
   ]
  },
  {
   "cell_type": "code",
   "execution_count": 4,
   "id": "4259333e",
   "metadata": {},
   "outputs": [
    {
     "data": {
      "text/plain": [
       "array([[ 288116,  433466,  322354, ...,  234498,  459306,  323646],\n",
       "       [ 214972,  323422,  240518, ...,  174966,  342702,  241482],\n",
       "       [-312200, -469700, -349300, ..., -254100, -497700, -350700],\n",
       "       ...,\n",
       "       [ 180184,  271084,  201596, ...,  146652,  287244,  202404],\n",
       "       [ -66454,  -99979,  -74351, ...,  -54087, -105939,  -74649],\n",
       "       [ 203376,  305976,  227544, ...,  165528,  324216,  228456]])"
      ]
     },
     "execution_count": 4,
     "metadata": {},
     "output_type": "execute_result"
    }
   ],
   "source": [
    "np.outer(X,Y)"
   ]
  },
  {
   "cell_type": "code",
   "execution_count": 5,
   "id": "44648fab",
   "metadata": {},
   "outputs": [
    {
     "data": {
      "text/plain": [
       "array([[ 288116,  433466,  322354, ...,  234498,  459306,  323646],\n",
       "       [ 214972,  323422,  240518, ...,  174966,  342702,  241482],\n",
       "       [-312200, -469700, -349300, ..., -254100, -497700, -350700],\n",
       "       ...,\n",
       "       [ 180184,  271084,  201596, ...,  146652,  287244,  202404],\n",
       "       [ -66454,  -99979,  -74351, ...,  -54087, -105939,  -74649],\n",
       "       [ 203376,  305976,  227544, ...,  165528,  324216,  228456]])"
      ]
     },
     "execution_count": 5,
     "metadata": {},
     "output_type": "execute_result"
    }
   ],
   "source": [
    "NUMPY_outer(X,Y)"
   ]
  },
  {
   "cell_type": "code",
   "execution_count": 6,
   "id": "299d93fd",
   "metadata": {},
   "outputs": [
    {
     "data": {
      "text/plain": [
       "array([[ True,  True,  True, ...,  True,  True,  True],\n",
       "       [ True,  True,  True, ...,  True,  True,  True],\n",
       "       [ True,  True,  True, ...,  True,  True,  True],\n",
       "       ...,\n",
       "       [ True,  True,  True, ...,  True,  True,  True],\n",
       "       [ True,  True,  True, ...,  True,  True,  True],\n",
       "       [ True,  True,  True, ...,  True,  True,  True]])"
      ]
     },
     "execution_count": 6,
     "metadata": {},
     "output_type": "execute_result"
    }
   ],
   "source": [
    "NUMPY_outer(X,Y)==np.outer(X,Y)"
   ]
  },
  {
   "cell_type": "markdown",
   "id": "ea3f1cfe",
   "metadata": {},
   "source": [
    "The built-in implementation by numpy is much faster because of how numpy manages its arrays, with homogeneous data types stored together in memory. Also due to how it integrates C/C++ code, which are faster than normal python. It also breaks down tasks into fragments and executes in parallel, so each row would be calculated in parallel in this excercise."
   ]
  }
 ],
 "metadata": {
  "kernelspec": {
   "display_name": "Python 3 (ipykernel)",
   "language": "python",
   "name": "python3"
  },
  "language_info": {
   "codemirror_mode": {
    "name": "ipython",
    "version": 3
   },
   "file_extension": ".py",
   "mimetype": "text/x-python",
   "name": "python",
   "nbconvert_exporter": "python",
   "pygments_lexer": "ipython3",
   "version": "3.10.6"
  }
 },
 "nbformat": 4,
 "nbformat_minor": 5
}
