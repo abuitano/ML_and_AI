{
 "cells": [
  {
   "cell_type": "code",
   "execution_count": 1,
   "id": "aad1d3d3",
   "metadata": {},
   "outputs": [],
   "source": [
    "def same_frequency(num1, num2):\n",
    "    item1, item2 = str(num1), str(num2)\n",
    "    return sorted(item1) == sorted(item2)\n",
    "    "
   ]
  },
  {
   "cell_type": "code",
   "execution_count": 2,
   "id": "7f28bebc",
   "metadata": {},
   "outputs": [
    {
     "data": {
      "text/plain": [
       "True"
      ]
     },
     "execution_count": 2,
     "metadata": {},
     "output_type": "execute_result"
    }
   ],
   "source": [
    "same_frequency(551122,221515) # True"
   ]
  },
  {
   "cell_type": "code",
   "execution_count": 3,
   "id": "9029f81f",
   "metadata": {},
   "outputs": [
    {
     "data": {
      "text/plain": [
       "False"
      ]
     },
     "execution_count": 3,
     "metadata": {},
     "output_type": "execute_result"
    }
   ],
   "source": [
    "same_frequency(12345,31354) # False"
   ]
  },
  {
   "cell_type": "code",
   "execution_count": 4,
   "id": "77c477e1",
   "metadata": {},
   "outputs": [
    {
     "data": {
      "text/plain": [
       "False"
      ]
     },
     "execution_count": 4,
     "metadata": {},
     "output_type": "execute_result"
    }
   ],
   "source": [
    "same_frequency(321142,3212215) # False"
   ]
  },
  {
   "cell_type": "code",
   "execution_count": 5,
   "id": "261e758f",
   "metadata": {},
   "outputs": [
    {
     "data": {
      "text/plain": [
       "True"
      ]
     },
     "execution_count": 5,
     "metadata": {},
     "output_type": "execute_result"
    }
   ],
   "source": [
    "same_frequency(1212, 2211) # True"
   ]
  }
 ],
 "metadata": {
  "kernelspec": {
   "display_name": "Python 3 (ipykernel)",
   "language": "python",
   "name": "python3"
  },
  "language_info": {
   "codemirror_mode": {
    "name": "ipython",
    "version": 3
   },
   "file_extension": ".py",
   "mimetype": "text/x-python",
   "name": "python",
   "nbconvert_exporter": "python",
   "pygments_lexer": "ipython3",
   "version": "3.10.6"
  }
 },
 "nbformat": 4,
 "nbformat_minor": 5
}
