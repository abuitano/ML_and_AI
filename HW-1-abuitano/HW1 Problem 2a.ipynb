{
 "cells": [
  {
   "cell_type": "code",
   "execution_count": 1,
   "id": "2f049d8d",
   "metadata": {},
   "outputs": [],
   "source": [
    "def includes(item, val, start_ind=None):\n",
    "    if type(item) == dict:\n",
    "        key = list(item.keys())\n",
    "        for i in range(len(key)):\n",
    "            if item[key[i]] == val:\n",
    "                return True\n",
    "    else:\n",
    "        if start_ind == None:\n",
    "            if val in item:\n",
    "                return True\n",
    "        else:\n",
    "            for i in range(start_ind, len(item)):\n",
    "                if item[i] == val:\n",
    "                    return True\n",
    "    return False"
   ]
  },
  {
   "cell_type": "code",
   "execution_count": 2,
   "id": "1041b01a",
   "metadata": {},
   "outputs": [
    {
     "data": {
      "text/plain": [
       "True"
      ]
     },
     "execution_count": 2,
     "metadata": {},
     "output_type": "execute_result"
    }
   ],
   "source": [
    "includes([2, 3, 4], 2, 0) # True"
   ]
  },
  {
   "cell_type": "code",
   "execution_count": 3,
   "id": "389cb361",
   "metadata": {},
   "outputs": [
    {
     "data": {
      "text/plain": [
       "False"
      ]
     },
     "execution_count": 3,
     "metadata": {},
     "output_type": "execute_result"
    }
   ],
   "source": [
    "includes([2, 3, 4], 2, 1) # False"
   ]
  },
  {
   "cell_type": "code",
   "execution_count": 4,
   "id": "424a285a",
   "metadata": {},
   "outputs": [
    {
     "data": {
      "text/plain": [
       "True"
      ]
     },
     "execution_count": 4,
     "metadata": {},
     "output_type": "execute_result"
    }
   ],
   "source": [
    "includes([2, 3, 4], 4, 1) # True"
   ]
  },
  {
   "cell_type": "code",
   "execution_count": 5,
   "id": "0d038a2e",
   "metadata": {},
   "outputs": [
    {
     "data": {
      "text/plain": [
       "True"
      ]
     },
     "execution_count": 5,
     "metadata": {},
     "output_type": "execute_result"
    }
   ],
   "source": [
    "includes({'a':1,'b':2}, 1) # True"
   ]
  },
  {
   "cell_type": "code",
   "execution_count": 6,
   "id": "239757df",
   "metadata": {},
   "outputs": [
    {
     "data": {
      "text/plain": [
       "False"
      ]
     },
     "execution_count": 6,
     "metadata": {},
     "output_type": "execute_result"
    }
   ],
   "source": [
    "includes({'a':1,'b':2}, 'a') # False"
   ]
  },
  {
   "cell_type": "code",
   "execution_count": 7,
   "id": "2c788c2e",
   "metadata": {},
   "outputs": [
    {
     "data": {
      "text/plain": [
       "True"
      ]
     },
     "execution_count": 7,
     "metadata": {},
     "output_type": "execute_result"
    }
   ],
   "source": [
    "includes('abcd', 'b') # True"
   ]
  }
 ],
 "metadata": {
  "kernelspec": {
   "display_name": "Python 3 (ipykernel)",
   "language": "python",
   "name": "python3"
  },
  "language_info": {
   "codemirror_mode": {
    "name": "ipython",
    "version": 3
   },
   "file_extension": ".py",
   "mimetype": "text/x-python",
   "name": "python",
   "nbconvert_exporter": "python",
   "pygments_lexer": "ipython3",
   "version": "3.10.6"
  }
 },
 "nbformat": 4,
 "nbformat_minor": 5
}
