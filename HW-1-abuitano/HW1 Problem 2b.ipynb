{
 "cells": [
  {
   "cell_type": "code",
   "execution_count": 1,
   "id": "81c65bc4",
   "metadata": {},
   "outputs": [],
   "source": [
    "def moving_average():\n",
    "    numbers = []\n",
    "    def average(x):\n",
    "        numbers.append(x)\n",
    "        return round(sum(numbers)/len(numbers),1)\n",
    "    return average"
   ]
  },
  {
   "cell_type": "code",
   "execution_count": 2,
   "id": "5eb19fb8",
   "metadata": {},
   "outputs": [
    {
     "name": "stdout",
     "output_type": "stream",
     "text": [
      "10.0\n",
      "10.5\n",
      "11.0\n"
     ]
    }
   ],
   "source": [
    "mAvg = moving_average()\n",
    "print(mAvg(10)) #10.0\n",
    "print(mAvg(11)) #10.5\n",
    "print(mAvg(12)) #11.0"
   ]
  }
 ],
 "metadata": {
  "kernelspec": {
   "display_name": "Python 3 (ipykernel)",
   "language": "python",
   "name": "python3"
  },
  "language_info": {
   "codemirror_mode": {
    "name": "ipython",
    "version": 3
   },
   "file_extension": ".py",
   "mimetype": "text/x-python",
   "name": "python",
   "nbconvert_exporter": "python",
   "pygments_lexer": "ipython3",
   "version": "3.10.6"
  }
 },
 "nbformat": 4,
 "nbformat_minor": 5
}
