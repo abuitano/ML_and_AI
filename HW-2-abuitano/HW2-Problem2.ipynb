{
 "cells": [
  {
   "cell_type": "code",
   "execution_count": 1,
   "id": "2b730777",
   "metadata": {},
   "outputs": [],
   "source": [
    "import numpy as np\n",
    "import time\n",
    "\n",
    "np.random.seed(24787)\n",
    "a = np.random.randint(8, size=(3,4,4))"
   ]
  },
  {
   "cell_type": "code",
   "execution_count": 2,
   "id": "fd04f4b1",
   "metadata": {},
   "outputs": [
    {
     "name": "stdout",
     "output_type": "stream",
     "text": [
      "[[[2 6 4 1]\n",
      "  [0 4 4 3]\n",
      "  [6 6 1 2]\n",
      "  [7 0 6 5]]\n",
      "\n",
      " [[1 3 3 7]\n",
      "  [4 7 2 5]\n",
      "  [0 4 6 7]\n",
      "  [5 5 7 1]]\n",
      "\n",
      " [[7 2 4 5]\n",
      "  [6 7 7 0]\n",
      "  [6 2 0 4]\n",
      "  [2 0 7 6]]]\n",
      "Shape of a:  (3, 4, 4)\n"
     ]
    }
   ],
   "source": [
    "print(a)\n",
    "print('Shape of a: ',a.shape)"
   ]
  },
  {
   "cell_type": "code",
   "execution_count": 3,
   "id": "a8b80b0e",
   "metadata": {},
   "outputs": [
    {
     "name": "stdout",
     "output_type": "stream",
     "text": [
      "(array([0, 0, 0, 1, 1, 2, 2]), array([0, 1, 1, 1, 2, 0, 2]), array([2, 1, 2, 0, 1, 2, 3]))\n"
     ]
    }
   ],
   "source": [
    "fours = np.where(a==4)\n",
    "#Print indices, first array is depth, second is row, third is column.\n",
    "print(fours)"
   ]
  },
  {
   "cell_type": "code",
   "execution_count": 4,
   "id": "bc4c55d3",
   "metadata": {},
   "outputs": [
    {
     "data": {
      "text/plain": [
       "(3, 8, 8)"
      ]
     },
     "execution_count": 4,
     "metadata": {},
     "output_type": "execute_result"
    }
   ],
   "source": [
    "b = np.tile(a,(2,2))\n",
    "b.shape"
   ]
  },
  {
   "cell_type": "code",
   "execution_count": 5,
   "id": "23ff0043",
   "metadata": {},
   "outputs": [
    {
     "name": "stdout",
     "output_type": "stream",
     "text": [
      "[[10 11 11 13 10 11 11 13]\n",
      " [10 18 13  8 10 18 13  8]\n",
      " [12 12  7 13 12 12  7 13]\n",
      " [14  5 20 12 14  5 20 12]\n",
      " [10 11 11 13 10 11 11 13]\n",
      " [10 18 13  8 10 18 13  8]\n",
      " [12 12  7 13 12 12  7 13]\n",
      " [14  5 20 12 14  5 20 12]]\n",
      "Shape of c:  (8, 8)\n"
     ]
    }
   ],
   "source": [
    "c = b.sum(axis=0)\n",
    "\n",
    "print(c)\n",
    "print('Shape of c: ',c.shape)"
   ]
  },
  {
   "cell_type": "code",
   "execution_count": 6,
   "id": "711437c3",
   "metadata": {},
   "outputs": [],
   "source": [
    "np.random.seed(24787)\n",
    "a = np.random.randint(8, size=(1000,1000))\n",
    "b = np.random.randint(8, size=(1000,1000))"
   ]
  },
  {
   "cell_type": "code",
   "execution_count": 7,
   "id": "e33063b5",
   "metadata": {},
   "outputs": [],
   "source": [
    "def matmul(a,b):\n",
    "    product = np.zeros(a.shape)\n",
    "    for x in range(a.shape[0]):\n",
    "        for i in range(a.shape[0]):\n",
    "            for j in range(a.shape[1]):\n",
    "                product[i,x] += a[i,j]*b[j,x]\n",
    "                \n",
    "    return product\n",
    "            "
   ]
  },
  {
   "cell_type": "code",
   "execution_count": 8,
   "id": "91e07213",
   "metadata": {},
   "outputs": [
    {
     "name": "stdout",
     "output_type": "stream",
     "text": [
      "Multiplication took:  515.9055788516998  seconds.\n"
     ]
    }
   ],
   "source": [
    "start = time.time()\n",
    "c = matmul(a,b)\n",
    "print(\"Multiplication took: \", time.time()-start, \" seconds.\")"
   ]
  },
  {
   "cell_type": "code",
   "execution_count": 9,
   "id": "a0d9c181",
   "metadata": {},
   "outputs": [
    {
     "name": "stdout",
     "output_type": "stream",
     "text": [
      "Multiplication took:  0.7417197227478027  seconds.\n"
     ]
    }
   ],
   "source": [
    "start = time.time()\n",
    "d = a@b\n",
    "print(\"Multiplication took: \", time.time()-start, \" seconds.\")"
   ]
  },
  {
   "cell_type": "code",
   "execution_count": 10,
   "id": "b1a14637",
   "metadata": {},
   "outputs": [
    {
     "data": {
      "text/plain": [
       "array([[ True,  True,  True, ...,  True,  True,  True],\n",
       "       [ True,  True,  True, ...,  True,  True,  True],\n",
       "       [ True,  True,  True, ...,  True,  True,  True],\n",
       "       ...,\n",
       "       [ True,  True,  True, ...,  True,  True,  True],\n",
       "       [ True,  True,  True, ...,  True,  True,  True],\n",
       "       [ True,  True,  True, ...,  True,  True,  True]])"
      ]
     },
     "execution_count": 10,
     "metadata": {},
     "output_type": "execute_result"
    }
   ],
   "source": [
    "c==d"
   ]
  },
  {
   "cell_type": "markdown",
   "id": "71697dda",
   "metadata": {},
   "source": [
    "Numpy is generally faster than python because it runs its functions with C and Fortran (static languages), because dynamic languages (like Python) are slow for loops anf callinf functions."
   ]
  }
 ],
 "metadata": {
  "kernelspec": {
   "display_name": "Python 3 (ipykernel)",
   "language": "python",
   "name": "python3"
  },
  "language_info": {
   "codemirror_mode": {
    "name": "ipython",
    "version": 3
   },
   "file_extension": ".py",
   "mimetype": "text/x-python",
   "name": "python",
   "nbconvert_exporter": "python",
   "pygments_lexer": "ipython3",
   "version": "3.10.6"
  }
 },
 "nbformat": 4,
 "nbformat_minor": 5
}
